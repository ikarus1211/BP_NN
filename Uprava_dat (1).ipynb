{
  "nbformat": 4,
  "nbformat_minor": 0,
  "metadata": {
    "colab": {
      "name": "Uprava_dat.ipynb",
      "provenance": [],
      "collapsed_sections": [],
      "toc_visible": true
    },
    "kernelspec": {
      "name": "python3",
      "display_name": "Python 3"
    },
    "accelerator": "GPU"
  },
  "cells": [
    {
      "cell_type": "code",
      "metadata": {
        "id": "M26qGpPkiUJ-"
      },
      "source": [
        "import plotly.express as px\r\n",
        "import numpy as np\r\n",
        "import h5py \r\n",
        "import seaborn as sns\r\n",
        "import pandas as pd\r\n",
        "from keras.datasets import mnist\r\n",
        "from keras.layers import Input, Dense, Flatten, Conv1D, MaxPooling1D, UpSampling1D, Dense, Reshape, BatchNormalization, GaussianNoise\r\n",
        "from keras.models import Model\r\n",
        "from keras import backend as K\r\n"
      ],
      "execution_count": null,
      "outputs": []
    },
    {
      "cell_type": "code",
      "metadata": {
        "id": "doTcm9Ro-bVe"
      },
      "source": [
        "\r\n",
        "\r\n",
        "def load_raw_read(path):\r\n",
        "    f = h5py.File(path, 'r')\r\n",
        "    fk = list(f['Raw']['Reads'].keys())\r\n",
        "    if len(fk) != 1:\r\n",
        "      print(\"More than one seqence\")\r\n",
        "    fr = f['Raw']['Reads'][fk[0]]['Signal']\r\n",
        "    #ll = list(fr)\r\n",
        "    return np.asarray(fr)\r\n",
        "\r\n",
        "def visualize_multiple(rawReads):\r\n",
        "    for rR in rawReads:\r\n",
        "      fig = px.line(y=rR, labels={\"y\": \"current\"})\r\n",
        "      fig.update_xaxes(rangeslider_visible=True)\r\n",
        "      fig.update_traces(mode='markers+lines')\r\n",
        "      fig.show()\r\n",
        "\r\n",
        "\r\n",
        "\r\n",
        "\r\n"
      ],
      "execution_count": null,
      "outputs": []
    },
    {
      "cell_type": "code",
      "metadata": {
        "id": "2RK9vx0C698B"
      },
      "source": [
        "def calc_avg(subs,n,side='front'):\r\n",
        "  if side == 'front':\r\n",
        "    s = subs[:n]\r\n",
        "    sum = 0\r\n",
        "    for i in s:\r\n",
        "      sum += i\r\n",
        "  else:\r\n",
        "    s = subs[-n:]\r\n",
        "    sum = 0\r\n",
        "    for i in s:\r\n",
        "      sum += i\r\n",
        "  return sum/n\r\n",
        "\r\n",
        "def remove_non_dna(sequence,treshold = 50, stride = 12):\r\n",
        "  first_cut = sequence[100:-100]\r\n",
        "  avg = calc_avg(first_cut, stride,'front')\r\n",
        "  reference_avg = avg\r\n",
        "  iterator = stride\r\n",
        "  while True:\r\n",
        "    new_avg = calc_avg(first_cut[iterator : (iterator + stride)], stride)\r\n",
        "    if new_avg - avg > treshold or avg - new_avg > treshold:\r\n",
        "      first_cut = first_cut[(iterator + stride) :]\r\n",
        "      i = 0\r\n",
        "      while reference_avg < first_cut[i] or i < 50:\r\n",
        "        i += 1\r\n",
        "      first_cut = first_cut[i:]\r\n",
        "      break\r\n",
        "    iterator += stride\r\n",
        "    avg = new_avg\r\n",
        "    #print(iterator)\r\n",
        "\r\n",
        "  iterator = stride\r\n",
        "  avg = calc_avg(first_cut, stride,'back')\r\n",
        "  reference_avg = avg\r\n",
        "  while True:\r\n",
        "    new_avg = calc_avg(first_cut[-(iterator + stride) : -iterator], stride)\r\n",
        "    if new_avg - avg > treshold or avg - new_avg > treshold:\r\n",
        "      first_cut = first_cut[:-(iterator + stride)]\r\n",
        "      i = 1\r\n",
        "      while reference_avg < first_cut[-i] or i < 50:\r\n",
        "        i += 1\r\n",
        "      first_cut = first_cut[:-i]\r\n",
        "      break\r\n",
        "    iterator += stride\r\n",
        "    avg = new_avg\r\n",
        "    #print(iterator)\r\n",
        "    \r\n",
        "  return first_cut\r\n",
        "  "
      ],
      "execution_count": null,
      "outputs": []
    },
    {
      "cell_type": "code",
      "metadata": {
        "id": "abQD9d-bpzhA"
      },
      "source": [
        "def normalize(v,med = True):\r\n",
        "  df_v = pd.DataFrame(v)\r\n",
        "  df_v_or = pd.DataFrame()\r\n",
        "  if med:\r\n",
        "    df_v_or = df_v.rolling(3,center=True).median()\r\n",
        "  else:\r\n",
        "    q1 = df_v[0].quantile(0.25)\r\n",
        "    q3 = df_v[0].quantile(0.75)\r\n",
        "    inter = q3 - q1\r\n",
        "    filter = (df_v[0] >= q1 - 1.5 * inter) & (df_v[0] <= q3 + 1.5 *inter)\r\n",
        "    df_v_or = df_v.loc[filter]\r\n",
        "\r\n",
        "  df_v_med = df_v_or - 100\r\n",
        "  df_v_scale = df_v_med / 800\r\n",
        "  return df_v_scale\r\n",
        "\r\n",
        "\r\n",
        "def prepare_data(v_raw, show = True, norm_type = False):\r\n",
        "  v_cut = remove_non_dna(v_raw)\r\n",
        "  if (show):\r\n",
        "    visualize_multiple([v_cut])\r\n",
        "  v_norm = normalize(v_cut,norm_type)\r\n",
        "  if (show):\r\n",
        "    sns.boxplot(v_norm[0])\r\n",
        "  return v_norm\r\n",
        "\r\n",
        "\r\n",
        "def split_data(v_seq,window_size= 320, stride= 300):\r\n",
        "  v_split = []\r\n",
        "  seq_len = len(v_seq)\r\n",
        "  iterator = 0\r\n",
        "  while True:\r\n",
        "    if iterator + window_size > seq_len:\r\n",
        "      tmp_seq = v_seq[iterator:]\r\n",
        "      tmp_seq = np.concatenate((tmp_seq,v_seq[:window_size - (seq_len - iterator)]),axis=0)\r\n",
        "      v_split.append(tmp_seq)\r\n",
        "      break\r\n",
        "    tmp_seq = v_seq[iterator:iterator + window_size]\r\n",
        "    v_split.append(tmp_seq)\r\n",
        "    iterator += stride\r\n",
        "  \r\n",
        "  print(\"Batches created: \" + str(len(v_split)))\r\n",
        "  return np.array(v_split)\r\n",
        "\r\n",
        "def create_train_test(v_split):\r\n",
        "  num_reads = len(v_split)\r\n",
        "  num_train = int(0.90 * num_reads)\r\n",
        "  v_split_train = v_split[:num_train]\r\n",
        "  v_split_test = v_split[num_train:]\r\n",
        "  print(\"Train batches: \" + str(len(v_split_train)) + \" Test batches: \" + str(len(v_split_test)) )\r\n",
        "  return v_split_train, v_split_test\r\n",
        "\r\n",
        "\r\n",
        "\r\n",
        "\r\n"
      ],
      "execution_count": null,
      "outputs": []
    },
    {
      "cell_type": "markdown",
      "metadata": {
        "id": "ur4gxKu9w0S8"
      },
      "source": [
        "**Data loading**"
      ]
    },
    {
      "cell_type": "code",
      "metadata": {
        "id": "P51p8_u1DVC6"
      },
      "source": [
        "#Dm1 370 data loading\r\n",
        "def load_data(selected_data):\r\n",
        "  if selected_data == '370_2014':\r\n",
        "    v1_1 = load_raw_read('/content/drive/MyDrive/BakData/dm1/370_2014_1/annot/131561ea-d3dd-4e35-bf11-80c0db22f886.fast5')\r\n",
        "    v1_2 = load_raw_read('/content/drive/MyDrive/BakData/dm1/370_2014_1/annot/536de04b-cd2c-4b96-821e-62fd304c2472.fast5')\r\n",
        "    v1_3 = load_raw_read('/content/drive/MyDrive/BakData/dm1/370_2014_1/annot/b14e87e1-eceb-47e2-ba46-9a7e7a10c230.fast5')\r\n",
        "    v2_1 = load_raw_read('/content/drive/MyDrive/BakData/dm1/370_2014_2/annot/629f8c4a-f1b0-44e2-aafc-4242dae48843.fast5')\r\n",
        "    #v2_2 = load_raw_read('/content/drive/MyDrive/BakData/dm1/370_2014_2/annot/67c5e2b0-0b84-465a-a1f9-44034683001e.fast5')\r\n",
        "    v2_3 = load_raw_read('/content/drive/MyDrive/BakData/dm1/370_2014_2/annot/87edd5c4-2988-4a3d-a879-2dfe8a7f6a8d.fast5')\r\n",
        "    return v1_1, v1_2, v1_3, v2_1, v2_3\r\n",
        "\r\n",
        "  if selected_data == '394_2016':\r\n",
        "    v1_1 = load_raw_read('/content/drive/MyDrive/BakData/dm1/394_2016_1/annot/1ca3725a-6101-4d7e-a16d-5057b61fadee.fast5')\r\n",
        "    v1_2 = load_raw_read('/content/drive/MyDrive/BakData/dm1/394_2016_1/annot/7477e948-23c5-427f-bbcc-c8256125872d.fast5')\r\n",
        "    v1_3 = load_raw_read('/content/drive/MyDrive/BakData/dm1/394_2016_1/annot/dc1a320f-014a-434a-9ce1-9a188bfa5625.fast5')\r\n",
        "    v2_1 = load_raw_read('/content/drive/MyDrive/BakData/dm1/394_2016_2/annot/2f5d5f2b-2ca5-411e-8be3-399860707bfb.fast5')\r\n",
        "    v2_2 = load_raw_read('/content/drive/MyDrive/BakData/dm1/394_2016_2/annot/4eb45ebb-6553-448c-9823-7a4040f11f19.fast5')\r\n",
        "    v3_1 = load_raw_read('/content/drive/MyDrive/BakData/dm1/394_2016_3/annot/b184219e-b21b-4136-a759-34be0e712ebc.fast5')\r\n",
        "    v3_2 = load_raw_read('/content/drive/MyDrive/BakData/dm1/394_2016_3/annot/e4fa312d-903f-489b-b2ee-f3c9536c3f38.fast5')\r\n",
        "    return v1_1, v1_2, v1_3, v2_1, v2_2, v3_1, v3_2\r\n",
        "\r\n",
        "  if selected_data == '84_15_1':\r\n",
        "    v1_1 = load_raw_read('/content/drive/MyDrive/BakData/dm1/84_15_1/annot/19f20510-a1a0-413f-be58-634567681d14.fast5')\r\n",
        "    v1_2 = load_raw_read('/content/drive/MyDrive/BakData/dm1/84_15_1/annot/42d6e949-cb36-43c4-b9de-9541dea91e72.fast5')\r\n",
        "    v1_3 = load_raw_read('/content/drive/MyDrive/BakData/dm1/84_15_1/annot/b9f1d5d7-903b-4ee0-875f-9b72d398df48.fast5')\r\n",
        "    v1_4 = load_raw_read('/content/drive/MyDrive/BakData/dm1/84_15_1/annot/cb7530ac-8974-4e24-8ba2-2407f446faaf.fast5')\r\n",
        "    v1_5 = load_raw_read('/content/drive/MyDrive/BakData/dm1/84_15_1/annot/dd81f005-75aa-4885-bb80-4b72a96a798c.fast5')\r\n",
        "    return v1_1, v1_2, v1_3, v1_4, v1_5\r\n",
        "\r\n",
        "  if selected_data == '84_15_2':\r\n",
        "    v2_1 = load_raw_read('/content/drive/MyDrive/BakData/dm1/84_15_2/annot/0b569f5e-a171-468c-be85-5430ae33a508.fast5')\r\n",
        "    v2_2 = load_raw_read('/content/drive/MyDrive/BakData/dm1/84_15_2/annot/58aaf25c-fdb1-487b-9d79-aba658459399.fast5')\r\n",
        "    v2_3 = load_raw_read('/content/drive/MyDrive/BakData/dm1/84_15_2/annot/63e573db-f4ee-4f1d-aa70-dc72b1ca01c3.fast5')\r\n",
        "    v2_4 = load_raw_read('/content/drive/MyDrive/BakData/dm1/84_15_2/annot/6a21a8fe-2550-498f-95c5-55f63e9ccc30.fast5')\r\n",
        "    v2_5 = load_raw_read('/content/drive/MyDrive/BakData/dm1/84_15_2/annot/893e39ee-b26c-44fb-938b-32e059b7d502.fast5')\r\n",
        "    v2_6 = load_raw_read('/content/drive/MyDrive/BakData/dm1/84_15_2/annot/d6b53baf-5e69-4070-99f6-b5ff92eb34fd.fast5')\r\n",
        "    v2_7 = load_raw_read('/content/drive/MyDrive/BakData/dm1/84_15_2/annot/d925aac9-ea49-497d-9771-e3a8413f7279.fast5')\r\n",
        "    return v2_1, v2_2, v2_3, v2_4, v2_5, v2_6, v2_7\r\n",
        "\r\n",
        "  if selected_data == '84_15_3':\r\n",
        "    v3_1 = load_raw_read('/content/drive/MyDrive/BakData/dm1/84_15_3/annot/08211ee5-6e4d-4db5-a3f6-01800ef7e881.fast5')\r\n",
        "    v3_2 = load_raw_read('/content/drive/MyDrive/BakData/dm1/84_15_3/annot/0e3feab6-2596-4cd5-9830-307ba8985c6f.fast5')\r\n",
        "    v3_3 = load_raw_read('/content/drive/MyDrive/BakData/dm1/84_15_3/annot/20914207-c11b-46fc-abf3-f7f4821bb470.fast5')\r\n",
        "    v3_4 = load_raw_read('/content/drive/MyDrive/BakData/dm1/84_15_3/annot/452dce8e-4d92-40b7-a42c-92517c767105.fast5')\r\n",
        "    v3_5 = load_raw_read('/content/drive/MyDrive/BakData/dm1/84_15_3/annot/63b4bc86-5622-42e2-a9a1-3c180be28001.fast5')\r\n",
        "    v3_6 = load_raw_read('/content/drive/MyDrive/BakData/dm1/84_15_3/annot/c4a83453-f871-4cd4-8736-49fb07557005.fast5')\r\n",
        "    v3_7 = load_raw_read('/content/drive/MyDrive/BakData/dm1/84_15_3/annot/e919db4b-e9bb-4fc0-b3cc-f16094c3f555.fast5')\r\n",
        "    return v3_1, v3_2, v3_3, v3_4, v3_5, v3_6, v3_7"
      ],
      "execution_count": null,
      "outputs": []
    },
    {
      "cell_type": "markdown",
      "metadata": {
        "id": "uNMJH03Kz0dn"
      },
      "source": [
        "**Data normalization**\r\n"
      ]
    },
    {
      "cell_type": "code",
      "metadata": {
        "id": "I-hmDAszij0C"
      },
      "source": [
        "dm1_84_15_1 = load_data('84_15_1')"
      ],
      "execution_count": null,
      "outputs": []
    },
    {
      "cell_type": "code",
      "metadata": {
        "id": "hn7whsX26Hkx"
      },
      "source": [
        "dm1_370_14 = load_data('370_2014')"
      ],
      "execution_count": null,
      "outputs": []
    },
    {
      "cell_type": "code",
      "metadata": {
        "colab": {
          "base_uri": "https://localhost:8080/"
        },
        "id": "daFNdBuD7b55",
        "outputId": "f4ced5c0-dd52-4b92-86c0-ce8f86f1e51b"
      },
      "source": [
        "min = 1000\r\n",
        "max = 0\r\n",
        "for i in dm1_370_14:\r\n",
        "  imax = np.max(i)\r\n",
        "  imin = np.min(i)\r\n",
        "  if min > imin:\r\n",
        "    min = imin\r\n",
        "  if max <  imax:\r\n",
        "    max =  imax\r\n",
        "print([min,max])    "
      ],
      "execution_count": null,
      "outputs": [
        {
          "output_type": "stream",
          "text": [
            "[138, 1092]\n"
          ],
          "name": "stdout"
        }
      ]
    },
    {
      "cell_type": "code",
      "metadata": {
        "id": "_dLgEE2o6ip6"
      },
      "source": [
        "norm_84_15_1_test = []\r\n",
        "for i in dm1_84_15_1:\r\n",
        " temp = prepare_data(i,show= False, norm_type= True)\r\n",
        " norm_84_15_1_test.append(temp[0])"
      ],
      "execution_count": null,
      "outputs": []
    },
    {
      "cell_type": "code",
      "metadata": {
        "id": "frud04bMe004"
      },
      "source": [
        "norm_84_15_1 = []\r\n",
        "for i in dm1_84_15_1:\r\n",
        " temp = prepare_data(i,show= False)\r\n",
        " norm_84_15_1.append(temp[0])\r\n",
        "\r\n",
        "norm_370_14 = []\r\n",
        "for i in dm1_370_14:\r\n",
        " temp = prepare_data(i,show= False)\r\n",
        " norm_370_14.append(temp[0])"
      ],
      "execution_count": null,
      "outputs": []
    },
    {
      "cell_type": "code",
      "metadata": {
        "id": "U18PJIAm76ir"
      },
      "source": [
        "visualize_multiple([norm_370_14[0], norm_370_14[1], norm_370_14[2], norm_370_14[3],  norm_370_14[4]])"
      ],
      "execution_count": null,
      "outputs": []
    },
    {
      "cell_type": "code",
      "metadata": {
        "id": "WJ1HZRFjvaMi"
      },
      "source": [
        "sns.distplot(norm_370_14[0])"
      ],
      "execution_count": null,
      "outputs": []
    },
    {
      "cell_type": "code",
      "metadata": {
        "id": "t07Plr3qArrA"
      },
      "source": [
        "sns.distplot(norm_370_14[3])"
      ],
      "execution_count": null,
      "outputs": []
    },
    {
      "cell_type": "code",
      "metadata": {
        "id": "A1nWY4Vv57hW"
      },
      "source": [
        "sns.distplot(norm_84_15_1[0])"
      ],
      "execution_count": null,
      "outputs": []
    },
    {
      "cell_type": "code",
      "metadata": {
        "id": "WaLO_hw350-W"
      },
      "source": [
        "sns.distplot(norm_84_15_1[1])"
      ],
      "execution_count": null,
      "outputs": []
    },
    {
      "cell_type": "markdown",
      "metadata": {
        "id": "MXOmoCSCRZoz"
      },
      "source": [
        "**Spliting into batches**\r\n",
        "--------------------------------------------------------------------------------"
      ]
    },
    {
      "cell_type": "code",
      "metadata": {
        "id": "6a5gDdYLVKYb",
        "colab": {
          "base_uri": "https://localhost:8080/"
        },
        "outputId": "ebfecc3a-028a-4cc7-d957-4aa4e5c1b1c0"
      },
      "source": [
        "split_370_14_train = [] \r\n",
        "split_370_14_test = [] \r\n",
        "for i in norm_370_14:\r\n",
        "  train, test = create_train_test(split_data(i))\r\n",
        "  split_370_14_train.append(train)\r\n",
        "  split_370_14_test.append(test)\r\n"
      ],
      "execution_count": null,
      "outputs": [
        {
          "output_type": "stream",
          "text": [
            "Batches created: 100\n",
            "Train batches: 90 Test batches: 10\n",
            "Batches created: 203\n",
            "Train batches: 182 Test batches: 21\n",
            "Batches created: 190\n",
            "Train batches: 171 Test batches: 19\n",
            "Batches created: 332\n",
            "Train batches: 298 Test batches: 34\n",
            "Batches created: 331\n",
            "Train batches: 297 Test batches: 34\n"
          ],
          "name": "stdout"
        }
      ]
    },
    {
      "cell_type": "code",
      "metadata": {
        "id": "9QxoqqEFTgNc"
      },
      "source": [
        "train_data = np.array([ elem for singleList in split_370_14_train for elem in singleList])\r\n",
        "valid_data = np.array([ elem for singleList in split_370_14_test for elem in singleList])\r\n"
      ],
      "execution_count": null,
      "outputs": []
    },
    {
      "cell_type": "code",
      "metadata": {
        "id": "_JGuV734DSzY",
        "colab": {
          "base_uri": "https://localhost:8080/",
          "height": 167
        },
        "outputId": "a2f67535-3cda-4c16-834b-2bf66e03ac07"
      },
      "source": [
        "visualize_multiple([norm_370_14[0],norm_370_14[1],norm_370_14[2],norm_370_14[3],norm_370_14[4],norm_370_14[5],])"
      ],
      "execution_count": null,
      "outputs": [
        {
          "output_type": "error",
          "ename": "IndexError",
          "evalue": "ignored",
          "traceback": [
            "\u001b[0;31m---------------------------------------------------------------------------\u001b[0m",
            "\u001b[0;31mIndexError\u001b[0m                                Traceback (most recent call last)",
            "\u001b[0;32m<ipython-input-47-c7ee73d75043>\u001b[0m in \u001b[0;36m<module>\u001b[0;34m()\u001b[0m\n\u001b[0;32m----> 1\u001b[0;31m \u001b[0mvisualize_multiple\u001b[0m\u001b[0;34m(\u001b[0m\u001b[0;34m[\u001b[0m\u001b[0mnorm_370_14\u001b[0m\u001b[0;34m[\u001b[0m\u001b[0;36m0\u001b[0m\u001b[0;34m]\u001b[0m\u001b[0;34m,\u001b[0m\u001b[0mnorm_370_14\u001b[0m\u001b[0;34m[\u001b[0m\u001b[0;36m1\u001b[0m\u001b[0;34m]\u001b[0m\u001b[0;34m,\u001b[0m\u001b[0mnorm_370_14\u001b[0m\u001b[0;34m[\u001b[0m\u001b[0;36m2\u001b[0m\u001b[0;34m]\u001b[0m\u001b[0;34m,\u001b[0m\u001b[0mnorm_370_14\u001b[0m\u001b[0;34m[\u001b[0m\u001b[0;36m3\u001b[0m\u001b[0;34m]\u001b[0m\u001b[0;34m,\u001b[0m\u001b[0mnorm_370_14\u001b[0m\u001b[0;34m[\u001b[0m\u001b[0;36m4\u001b[0m\u001b[0;34m]\u001b[0m\u001b[0;34m,\u001b[0m\u001b[0mnorm_370_14\u001b[0m\u001b[0;34m[\u001b[0m\u001b[0;36m5\u001b[0m\u001b[0;34m]\u001b[0m\u001b[0;34m,\u001b[0m\u001b[0;34m]\u001b[0m\u001b[0;34m)\u001b[0m\u001b[0;34m\u001b[0m\u001b[0;34m\u001b[0m\u001b[0m\n\u001b[0m",
            "\u001b[0;31mIndexError\u001b[0m: list index out of range"
          ]
        }
      ]
    },
    {
      "cell_type": "markdown",
      "metadata": {
        "id": "WnQIwQPhTM0G"
      },
      "source": [
        "**CNN Autoencoder**\r\n",
        "--------------------------------------------------------------------------------"
      ]
    },
    {
      "cell_type": "code",
      "metadata": {
        "id": "lJlG2DAduDwL"
      },
      "source": [
        "input_seq= Input(shape=(320,1))"
      ],
      "execution_count": null,
      "outputs": []
    },
    {
      "cell_type": "code",
      "metadata": {
        "colab": {
          "base_uri": "https://localhost:8080/"
        },
        "id": "xE-FjVHjfL1r",
        "outputId": "a3edb50a-e0b3-4a3c-adc3-01b6e73f462a"
      },
      "source": [
        "# First CNN layer\r\n",
        "model_x = Conv1D(filters = 8, kernel_size = 3, activation='relu', padding='same')(input_seq)\r\n",
        "print([\"First CNN :   \",model_x])\r\n",
        "model_x = MaxPooling1D(2, padding='same')(model_x)\r\n",
        "print([\"First CNN :   \" , model_x])\r\n",
        "\r\n",
        "\r\n",
        "# Second CNN layer\r\n",
        "model_x  = Conv1D(filters = 12, kernel_size = 8, activation='relu', padding='same')(model_x)\r\n",
        "print([\"Second CNN :  \" , model_x])\r\n",
        "model_x = GaussianNoise(0.1)(model_x)\r\n",
        "model_x  = Conv1D(filters = 16, kernel_size = 16, activation='relu', padding='same')(model_x)\r\n",
        "print([\"Second CNN :  \" , model_x])\r\n",
        "model_x = BatchNormalization()(model_x)\r\n",
        "model_x = MaxPooling1D( 2, padding='same')(model_x)\r\n",
        "print([\"Second CNN :  \" , model_x])\r\n",
        "\r\n",
        "# Third CNN layer\r\n",
        "\r\n",
        "model_x  = Conv1D(filters = 32, kernel_size = 4, activation='relu', padding='same')(model_x)\r\n",
        "print([\"Third CNN :   \" , model_x])\r\n",
        "model_x  = Conv1D(filters = 1, kernel_size = 8, activation='relu', padding='same')(model_x)\r\n",
        "print([\"Third CNN :   \" , model_x])\r\n",
        "encoded= MaxPooling1D( 2, padding='same')(model_x)\r\n",
        "print([\"Third CNN :   \" , encoded])\r\n",
        "\r\n",
        "\r\n",
        "\r\n",
        "#---------------------------------------------#\r\n",
        "print('---------------------------------------------')\r\n",
        "#---------------------------------------------#\r\n",
        "\r\n",
        "\r\n",
        "#First DCNN layer\r\n",
        "model_x = Conv1D(filters = 1, kernel_size = 8, activation='relu', padding='same')(encoded)\r\n",
        "print([\"First DCNN :   \",model_x])\r\n",
        "model_x  = Conv1D(filters = 32, kernel_size = 4, activation='relu', padding='same')(model_x)\r\n",
        "print([\"First DCNN :   \" , model_x])\r\n",
        "model_x = UpSampling1D(2)(model_x)\r\n",
        "print([\"First DCNN :   \" , model_x])\r\n",
        "\r\n",
        "#Second DCNN layer\r\n",
        "model_x = Conv1D(filters = 16, kernel_size = 16, activation='relu', padding='same')(model_x)\r\n",
        "print([\"Second DCNN :  \",model_x])\r\n",
        "model_x  = Conv1D(filters = 12, kernel_size = 8, activation='relu', padding='same')(model_x)\r\n",
        "print([\"Second DCNN :  \" , model_x])\r\n",
        "model_x = UpSampling1D(2)(model_x)\r\n",
        "print([\"Second DCNN :  \",model_x])\r\n",
        "\r\n",
        "#Third DCNN layer\r\n",
        "model_x = Conv1D(filters = 8, kernel_size = 3, activation='relu', padding='same')(model_x)\r\n",
        "print([\"Third DCNN :  \",model_x])\r\n",
        "model_x = UpSampling1D(2)(model_x)\r\n",
        "print([\"Third DCNN :  \",model_x])\r\n",
        "\r\n",
        "\r\n",
        "decoded = Conv1D(1, 1, activation='sigmoid', padding='same')(model_x)\r\n",
        "print([\"Last CNN:  \",decoded])\r\n",
        "autoencoder = Model(input_seq, decoded)\r\n",
        "autoencoder.compile(optimizer='nadam', loss='mean_absolute_error')"
      ],
      "execution_count": null,
      "outputs": [
        {
          "output_type": "stream",
          "text": [
            "['First CNN :   ', <KerasTensor: shape=(None, 320, 8) dtype=float32 (created by layer 'conv1d')>]\n",
            "['First CNN :   ', <KerasTensor: shape=(None, 160, 8) dtype=float32 (created by layer 'max_pooling1d')>]\n",
            "['Second CNN :  ', <KerasTensor: shape=(None, 160, 12) dtype=float32 (created by layer 'conv1d_1')>]\n",
            "['Second CNN :  ', <KerasTensor: shape=(None, 160, 16) dtype=float32 (created by layer 'conv1d_2')>]\n",
            "['Second CNN :  ', <KerasTensor: shape=(None, 80, 16) dtype=float32 (created by layer 'max_pooling1d_1')>]\n",
            "['Third CNN :   ', <KerasTensor: shape=(None, 80, 32) dtype=float32 (created by layer 'conv1d_3')>]\n",
            "['Third CNN :   ', <KerasTensor: shape=(None, 80, 1) dtype=float32 (created by layer 'conv1d_4')>]\n",
            "['Third CNN :   ', <KerasTensor: shape=(None, 40, 1) dtype=float32 (created by layer 'max_pooling1d_2')>]\n",
            "---------------------------------------------\n",
            "['First DCNN :   ', <KerasTensor: shape=(None, 40, 1) dtype=float32 (created by layer 'conv1d_5')>]\n",
            "['First DCNN :   ', <KerasTensor: shape=(None, 40, 32) dtype=float32 (created by layer 'conv1d_6')>]\n",
            "['First DCNN :   ', <KerasTensor: shape=(None, 80, 32) dtype=float32 (created by layer 'up_sampling1d')>]\n",
            "['Second DCNN :  ', <KerasTensor: shape=(None, 80, 16) dtype=float32 (created by layer 'conv1d_7')>]\n",
            "['Second DCNN :  ', <KerasTensor: shape=(None, 80, 12) dtype=float32 (created by layer 'conv1d_8')>]\n",
            "['Second DCNN :  ', <KerasTensor: shape=(None, 160, 12) dtype=float32 (created by layer 'up_sampling1d_1')>]\n",
            "['Third DCNN :  ', <KerasTensor: shape=(None, 160, 8) dtype=float32 (created by layer 'conv1d_9')>]\n",
            "['Third DCNN :  ', <KerasTensor: shape=(None, 320, 8) dtype=float32 (created by layer 'up_sampling1d_2')>]\n",
            "['Last CNN:  ', <KerasTensor: shape=(None, 320, 1) dtype=float32 (created by layer 'conv1d_10')>]\n"
          ],
          "name": "stdout"
        }
      ]
    },
    {
      "cell_type": "code",
      "metadata": {
        "colab": {
          "base_uri": "https://localhost:8080/"
        },
        "id": "So_NVp9sRACh",
        "outputId": "b5a8a787-f65d-4228-b405-e3d2d79ccea5"
      },
      "source": [
        "autoencoder.fit(train_data,train_data,\r\n",
        "epochs=100,\r\n",
        "batch_size= 30,\r\n",
        "shuffle=False,\r\n",
        "validation_data=(valid_data, valid_data),\r\n",
        ")"
      ],
      "execution_count": null,
      "outputs": [
        {
          "output_type": "stream",
          "text": [
            "Epoch 1/100\n",
            "35/35 [==============================] - 36s 40ms/step - loss: 0.0803 - val_loss: 0.0769\n",
            "Epoch 2/100\n",
            "35/35 [==============================] - 0s 12ms/step - loss: 0.0710 - val_loss: 0.0776\n",
            "Epoch 3/100\n",
            "35/35 [==============================] - 1s 16ms/step - loss: 0.0625 - val_loss: 0.0778\n",
            "Epoch 4/100\n",
            "35/35 [==============================] - 1s 15ms/step - loss: 0.0585 - val_loss: 0.0774\n",
            "Epoch 5/100\n",
            "35/35 [==============================] - 1s 16ms/step - loss: 0.0550 - val_loss: 0.0778\n",
            "Epoch 6/100\n",
            "35/35 [==============================] - 1s 15ms/step - loss: 0.0524 - val_loss: 0.0777\n",
            "Epoch 7/100\n",
            "35/35 [==============================] - 1s 16ms/step - loss: 0.0505 - val_loss: 0.0770\n",
            "Epoch 8/100\n",
            "35/35 [==============================] - 1s 16ms/step - loss: 0.0493 - val_loss: 0.0746\n",
            "Epoch 9/100\n",
            "35/35 [==============================] - 1s 16ms/step - loss: 0.0484 - val_loss: 0.0707\n",
            "Epoch 10/100\n",
            "35/35 [==============================] - 0s 14ms/step - loss: 0.0479 - val_loss: 0.0672\n",
            "Epoch 11/100\n",
            "35/35 [==============================] - 0s 12ms/step - loss: 0.0472 - val_loss: 0.0646\n",
            "Epoch 12/100\n",
            "35/35 [==============================] - 0s 12ms/step - loss: 0.0468 - val_loss: 0.0596\n",
            "Epoch 13/100\n",
            "35/35 [==============================] - 0s 13ms/step - loss: 0.0465 - val_loss: 0.0589\n",
            "Epoch 14/100\n",
            "35/35 [==============================] - 0s 14ms/step - loss: 0.0458 - val_loss: 0.0571\n",
            "Epoch 15/100\n",
            "35/35 [==============================] - 1s 14ms/step - loss: 0.0454 - val_loss: 0.0527\n",
            "Epoch 16/100\n",
            "35/35 [==============================] - 1s 16ms/step - loss: 0.0452 - val_loss: 0.0531\n",
            "Epoch 17/100\n",
            "35/35 [==============================] - 1s 15ms/step - loss: 0.0447 - val_loss: 0.0499\n",
            "Epoch 18/100\n",
            "35/35 [==============================] - 0s 14ms/step - loss: 0.0443 - val_loss: 0.0492\n",
            "Epoch 19/100\n",
            "35/35 [==============================] - 0s 12ms/step - loss: 0.0440 - val_loss: 0.0473\n",
            "Epoch 20/100\n",
            "35/35 [==============================] - 0s 12ms/step - loss: 0.0436 - val_loss: 0.0441\n",
            "Epoch 21/100\n",
            "35/35 [==============================] - 0s 12ms/step - loss: 0.0425 - val_loss: 0.0434\n",
            "Epoch 22/100\n",
            "35/35 [==============================] - 0s 12ms/step - loss: 0.0415 - val_loss: 0.0423\n",
            "Epoch 23/100\n",
            "35/35 [==============================] - 0s 12ms/step - loss: 0.0407 - val_loss: 0.0380\n",
            "Epoch 24/100\n",
            "35/35 [==============================] - 0s 12ms/step - loss: 0.0402 - val_loss: 0.0372\n",
            "Epoch 25/100\n",
            "35/35 [==============================] - 0s 13ms/step - loss: 0.0395 - val_loss: 0.0361\n",
            "Epoch 26/100\n",
            "35/35 [==============================] - 0s 12ms/step - loss: 0.0389 - val_loss: 0.0343\n",
            "Epoch 27/100\n",
            "35/35 [==============================] - 0s 12ms/step - loss: 0.0386 - val_loss: 0.0332\n",
            "Epoch 28/100\n",
            "35/35 [==============================] - 1s 15ms/step - loss: 0.0381 - val_loss: 0.0321\n",
            "Epoch 29/100\n",
            "35/35 [==============================] - 1s 15ms/step - loss: 0.0377 - val_loss: 0.0314\n",
            "Epoch 30/100\n",
            "35/35 [==============================] - 0s 14ms/step - loss: 0.0373 - val_loss: 0.0309\n",
            "Epoch 31/100\n",
            "35/35 [==============================] - 0s 14ms/step - loss: 0.0370 - val_loss: 0.0308\n",
            "Epoch 32/100\n",
            "35/35 [==============================] - 1s 15ms/step - loss: 0.0366 - val_loss: 0.0309\n",
            "Epoch 33/100\n",
            "35/35 [==============================] - 0s 12ms/step - loss: 0.0365 - val_loss: 0.0301\n",
            "Epoch 34/100\n",
            "35/35 [==============================] - 0s 14ms/step - loss: 0.0365 - val_loss: 0.0304\n",
            "Epoch 35/100\n",
            "35/35 [==============================] - 0s 12ms/step - loss: 0.0361 - val_loss: 0.0297\n",
            "Epoch 36/100\n",
            "35/35 [==============================] - 0s 14ms/step - loss: 0.0362 - val_loss: 0.0303\n",
            "Epoch 37/100\n",
            "35/35 [==============================] - 0s 12ms/step - loss: 0.0361 - val_loss: 0.0297\n",
            "Epoch 38/100\n",
            "35/35 [==============================] - 0s 14ms/step - loss: 0.0361 - val_loss: 0.0287\n",
            "Epoch 39/100\n",
            "35/35 [==============================] - 0s 12ms/step - loss: 0.0360 - val_loss: 0.0293\n",
            "Epoch 40/100\n",
            "35/35 [==============================] - 0s 13ms/step - loss: 0.0361 - val_loss: 0.0288\n",
            "Epoch 41/100\n",
            "35/35 [==============================] - 0s 13ms/step - loss: 0.0360 - val_loss: 0.0285\n",
            "Epoch 42/100\n",
            "35/35 [==============================] - 0s 14ms/step - loss: 0.0360 - val_loss: 0.0285\n",
            "Epoch 43/100\n",
            "35/35 [==============================] - 0s 12ms/step - loss: 0.0359 - val_loss: 0.0286\n",
            "Epoch 44/100\n",
            "35/35 [==============================] - 0s 14ms/step - loss: 0.0360 - val_loss: 0.0282\n",
            "Epoch 45/100\n",
            "35/35 [==============================] - 0s 12ms/step - loss: 0.0359 - val_loss: 0.0283\n",
            "Epoch 46/100\n",
            "35/35 [==============================] - 0s 12ms/step - loss: 0.0359 - val_loss: 0.0284\n",
            "Epoch 47/100\n",
            "35/35 [==============================] - 1s 16ms/step - loss: 0.0360 - val_loss: 0.0284\n",
            "Epoch 48/100\n",
            "35/35 [==============================] - 0s 12ms/step - loss: 0.0360 - val_loss: 0.0284\n",
            "Epoch 49/100\n",
            "35/35 [==============================] - 0s 13ms/step - loss: 0.0360 - val_loss: 0.0282\n",
            "Epoch 50/100\n",
            "35/35 [==============================] - 0s 12ms/step - loss: 0.0360 - val_loss: 0.0284\n",
            "Epoch 51/100\n",
            "35/35 [==============================] - 0s 14ms/step - loss: 0.0360 - val_loss: 0.0283\n",
            "Epoch 52/100\n",
            "35/35 [==============================] - 1s 14ms/step - loss: 0.0361 - val_loss: 0.0284\n",
            "Epoch 53/100\n",
            "35/35 [==============================] - 0s 12ms/step - loss: 0.0361 - val_loss: 0.0288\n",
            "Epoch 54/100\n",
            "35/35 [==============================] - 0s 13ms/step - loss: 0.0361 - val_loss: 0.0287\n",
            "Epoch 55/100\n",
            "35/35 [==============================] - 0s 14ms/step - loss: 0.0361 - val_loss: 0.0285\n",
            "Epoch 56/100\n",
            "35/35 [==============================] - 0s 12ms/step - loss: 0.0362 - val_loss: 0.0284\n",
            "Epoch 57/100\n",
            "35/35 [==============================] - 0s 13ms/step - loss: 0.0362 - val_loss: 0.0285\n",
            "Epoch 58/100\n",
            "35/35 [==============================] - 0s 12ms/step - loss: 0.0362 - val_loss: 0.0285\n",
            "Epoch 59/100\n",
            "35/35 [==============================] - 0s 13ms/step - loss: 0.0362 - val_loss: 0.0284\n",
            "Epoch 60/100\n",
            "35/35 [==============================] - 0s 12ms/step - loss: 0.0362 - val_loss: 0.0286\n",
            "Epoch 61/100\n",
            "35/35 [==============================] - 0s 12ms/step - loss: 0.0362 - val_loss: 0.0286\n",
            "Epoch 62/100\n",
            "35/35 [==============================] - 0s 12ms/step - loss: 0.0362 - val_loss: 0.0288\n",
            "Epoch 63/100\n",
            "35/35 [==============================] - 0s 12ms/step - loss: 0.0362 - val_loss: 0.0285\n",
            "Epoch 64/100\n",
            "35/35 [==============================] - 0s 14ms/step - loss: 0.0363 - val_loss: 0.0285\n",
            "Epoch 65/100\n",
            "35/35 [==============================] - 0s 13ms/step - loss: 0.0362 - val_loss: 0.0285\n",
            "Epoch 66/100\n",
            "35/35 [==============================] - 0s 12ms/step - loss: 0.0363 - val_loss: 0.0285\n",
            "Epoch 67/100\n",
            "35/35 [==============================] - 0s 12ms/step - loss: 0.0363 - val_loss: 0.0285\n",
            "Epoch 68/100\n",
            "35/35 [==============================] - 0s 12ms/step - loss: 0.0363 - val_loss: 0.0283\n",
            "Epoch 69/100\n",
            "35/35 [==============================] - 0s 12ms/step - loss: 0.0363 - val_loss: 0.0283\n",
            "Epoch 70/100\n",
            "35/35 [==============================] - 0s 12ms/step - loss: 0.0362 - val_loss: 0.0283\n",
            "Epoch 71/100\n",
            "35/35 [==============================] - 0s 13ms/step - loss: 0.0363 - val_loss: 0.0283\n",
            "Epoch 72/100\n",
            "35/35 [==============================] - 0s 13ms/step - loss: 0.0363 - val_loss: 0.0284\n",
            "Epoch 73/100\n",
            "35/35 [==============================] - 0s 13ms/step - loss: 0.0362 - val_loss: 0.0284\n",
            "Epoch 74/100\n",
            "35/35 [==============================] - 0s 12ms/step - loss: 0.0363 - val_loss: 0.0282\n",
            "Epoch 75/100\n",
            "35/35 [==============================] - 0s 14ms/step - loss: 0.0362 - val_loss: 0.0283\n",
            "Epoch 76/100\n",
            "35/35 [==============================] - 0s 13ms/step - loss: 0.0362 - val_loss: 0.0283\n",
            "Epoch 77/100\n",
            "35/35 [==============================] - 0s 14ms/step - loss: 0.0362 - val_loss: 0.0284\n",
            "Epoch 78/100\n",
            "35/35 [==============================] - 0s 13ms/step - loss: 0.0362 - val_loss: 0.0284\n",
            "Epoch 79/100\n",
            "35/35 [==============================] - 0s 12ms/step - loss: 0.0361 - val_loss: 0.0283\n",
            "Epoch 80/100\n",
            "35/35 [==============================] - 1s 17ms/step - loss: 0.0361 - val_loss: 0.0283\n",
            "Epoch 81/100\n",
            "35/35 [==============================] - 0s 12ms/step - loss: 0.0361 - val_loss: 0.0283\n",
            "Epoch 82/100\n",
            "35/35 [==============================] - 1s 14ms/step - loss: 0.0361 - val_loss: 0.0283\n",
            "Epoch 83/100\n",
            "35/35 [==============================] - 0s 14ms/step - loss: 0.0361 - val_loss: 0.0283\n",
            "Epoch 84/100\n",
            "35/35 [==============================] - 1s 14ms/step - loss: 0.0361 - val_loss: 0.0283\n",
            "Epoch 85/100\n",
            "35/35 [==============================] - 0s 13ms/step - loss: 0.0361 - val_loss: 0.0282\n",
            "Epoch 86/100\n",
            "35/35 [==============================] - 1s 16ms/step - loss: 0.0361 - val_loss: 0.0283\n",
            "Epoch 87/100\n",
            "35/35 [==============================] - 0s 14ms/step - loss: 0.0361 - val_loss: 0.0282\n",
            "Epoch 88/100\n",
            "35/35 [==============================] - 1s 17ms/step - loss: 0.0361 - val_loss: 0.0282\n",
            "Epoch 89/100\n",
            "35/35 [==============================] - 0s 13ms/step - loss: 0.0361 - val_loss: 0.0283\n",
            "Epoch 90/100\n",
            "35/35 [==============================] - 0s 13ms/step - loss: 0.0360 - val_loss: 0.0283\n",
            "Epoch 91/100\n",
            "35/35 [==============================] - 0s 12ms/step - loss: 0.0360 - val_loss: 0.0284\n",
            "Epoch 92/100\n",
            "35/35 [==============================] - 0s 13ms/step - loss: 0.0361 - val_loss: 0.0284\n",
            "Epoch 93/100\n",
            "35/35 [==============================] - 0s 12ms/step - loss: 0.0361 - val_loss: 0.0283\n",
            "Epoch 94/100\n",
            "35/35 [==============================] - 0s 13ms/step - loss: 0.0361 - val_loss: 0.0284\n",
            "Epoch 95/100\n",
            "35/35 [==============================] - 0s 14ms/step - loss: 0.0361 - val_loss: 0.0284\n",
            "Epoch 96/100\n",
            "35/35 [==============================] - 1s 16ms/step - loss: 0.0361 - val_loss: 0.0285\n",
            "Epoch 97/100\n",
            "35/35 [==============================] - 1s 17ms/step - loss: 0.0361 - val_loss: 0.0285\n",
            "Epoch 98/100\n",
            "35/35 [==============================] - 1s 17ms/step - loss: 0.0362 - val_loss: 0.0284\n",
            "Epoch 99/100\n",
            "35/35 [==============================] - 1s 16ms/step - loss: 0.0361 - val_loss: 0.0285\n",
            "Epoch 100/100\n",
            "35/35 [==============================] - 1s 17ms/step - loss: 0.0361 - val_loss: 0.0286\n"
          ],
          "name": "stdout"
        },
        {
          "output_type": "execute_result",
          "data": {
            "text/plain": [
              "<tensorflow.python.keras.callbacks.History at 0x7f4452bd76d0>"
            ]
          },
          "metadata": {
            "tags": []
          },
          "execution_count": 51
        }
      ]
    },
    {
      "cell_type": "code",
      "metadata": {
        "colab": {
          "base_uri": "https://localhost:8080/",
          "height": 1000
        },
        "id": "5N3KHUROns3n",
        "outputId": "d1187eae-eca9-4606-a0b9-9a4ab7f02333"
      },
      "source": [
        "tmp = autoencoder.predict(valid_data)\r\n",
        "vis = np.array([ elem for singleList in tmp[1] for elem in singleList])\r\n",
        "visualize_multiple([valid_data[1],vis])"
      ],
      "execution_count": 58,
      "outputs": [
        {
          "output_type": "display_data",
          "data": {
            "text/html": [
              "<html>\n",
              "<head><meta charset=\"utf-8\" /></head>\n",
              "<body>\n",
              "    <div>\n",
              "            <script src=\"https://cdnjs.cloudflare.com/ajax/libs/mathjax/2.7.5/MathJax.js?config=TeX-AMS-MML_SVG\"></script><script type=\"text/javascript\">if (window.MathJax) {MathJax.Hub.Config({SVG: {font: \"STIX-Web\"}});}</script>\n",
              "                <script type=\"text/javascript\">window.PlotlyConfig = {MathJaxConfig: 'local'};</script>\n",
              "        <script src=\"https://cdn.plot.ly/plotly-latest.min.js\"></script>    \n",
              "            <div id=\"197f7a49-60e1-49b4-975a-a26a13446bc5\" class=\"plotly-graph-div\" style=\"height:525px; width:100%;\"></div>\n",
              "            <script type=\"text/javascript\">\n",
              "                \n",
              "                    window.PLOTLYENV=window.PLOTLYENV || {};\n",
              "                    \n",
              "                if (document.getElementById(\"197f7a49-60e1-49b4-975a-a26a13446bc5\")) {\n",
              "                    Plotly.newPlot(\n",
              "                        '197f7a49-60e1-49b4-975a-a26a13446bc5',\n",
              "                        [{\"hoverlabel\": {\"namelength\": 0}, \"hovertemplate\": \"current=%{y}\", \"legendgroup\": \"\", \"line\": {\"color\": \"#636efa\", \"dash\": \"solid\"}, \"mode\": \"markers+lines\", \"name\": \"\", \"showlegend\": false, \"type\": \"scatter\", \"xaxis\": \"x\", \"y\": [0.505, 0.47625, 0.4925, 0.46875, 0.47, 0.48125, 0.4925, 0.465, 0.47125, 0.48125, 0.49125, 0.49875, 0.515, 0.49125, 0.48375, 0.4825, 0.4975, 0.505, 0.4725, 0.495, 0.54375, 0.55125, 0.56625, 0.5325, 0.53, 0.55125, 0.54, 0.50125, 0.48375, 0.5025, 0.47125, 0.47125, 0.465, 0.4725, 0.455, 0.51125, 0.55125, 0.57, 0.57, 0.5575, 0.555, 0.5375, 0.555, 0.55375, 0.5425, 0.49875, 0.475, 0.49, 0.4875, 0.39875, 0.42875, 0.4075, 0.415, 0.38375, 0.37, 0.395, 0.42125, 0.4, 0.4025, 0.41375, 0.3275, 0.2875, 0.27875, 0.31, 0.305, 0.31, 0.31125, 0.29875, 0.31625, 0.31125, 0.29125, 0.29125, 0.3, 0.31625, 0.315, 0.30125, 0.32625, 0.31875, 0.29375, 0.2875, 0.295, 0.28875, 0.3, 0.30875, 0.3125, 0.3025, 0.28875, 0.315, 0.3175, 0.3025, 0.31375, 0.29875, 0.37375, 0.4425, 0.44, 0.46625, 0.47125, 0.46625, 0.4725, 0.5025, 0.50125, 0.47375, 0.465, 0.44375, 0.4425, 0.44875, 0.45375, 0.4675, 0.47, 0.44375, 0.4475, 0.4425, 0.4375, 0.46125, 0.43375, 0.4525, 0.45625, 0.4425, 0.44625, 0.485, 0.53, 0.53375, 0.53, 0.5025, 0.52, 0.50125, 0.49625, 0.4825, 0.475, 0.45625, 0.46125, 0.46375, 0.50125, 0.52125, 0.5175, 0.4925, 0.51875, 0.505, 0.5325, 0.515, 0.5025, 0.49125, 0.47625, 0.5675, 0.58625, 0.5725, 0.615, 0.59625, 0.56, 0.565, 0.5625, 0.58125, 0.56875, 0.555, 0.5, 0.43875, 0.46125, 0.47, 0.45625, 0.455, 0.45125, 0.47125, 0.45125, 0.4525, 0.525, 0.52625, 0.5475, 0.5425, 0.54375, 0.445, 0.44875, 0.4675, 0.5525, 0.5425, 0.55375, 0.54375, 0.5475, 0.5525, 0.53625, 0.55375, 0.5375, 0.565, 0.5175, 0.51125, 0.52, 0.5125, 0.5225, 0.50875, 0.525, 0.51375, 0.52625, 0.5175, 0.51, 0.5275, 0.5225, 0.5175, 0.5375, 0.53875, 0.53375, 0.52875, 0.5425, 0.535, 0.54375, 0.5475, 0.54875, 0.5425, 0.54125, 0.54125, 0.5475, 0.53625, 0.5425, 0.5525, 0.575, 0.565, 0.5575, 0.5775, 0.5775, 0.57, 0.57875, 0.5625, 0.5725, 0.57, 0.5825, 0.5775, 0.565, 0.58125, 0.5775, 0.55625, 0.56, 0.56, 0.565, 0.51125, 0.515, 0.53875, 0.52625, 0.5225, 0.53, 0.53625, 0.53625, 0.54, 0.51875, 0.49625, 0.48875, 0.51125, 0.4775, 0.3625, 0.37875, 0.36625, 0.36625, 0.36875, 0.395, 0.39, 0.36, 0.3675, 0.365, 0.3525, 0.36375, 0.3775, 0.355, 0.4, 0.3725, 0.37875, 0.36625, 0.375, 0.36625, 0.3775, 0.41375, 0.405, 0.41375, 0.42125, 0.42, 0.43375, 0.42375, 0.42375, 0.4125, 0.5325, 0.5775, 0.57, 0.56875, 0.5625, 0.585, 0.5625, 0.57125, 0.55, 0.56, 0.57375, 0.56, 0.57, 0.56125, 0.57, 0.57625, 0.56125, 0.525, 0.5275, 0.52375, 0.5075, 0.52, 0.5225, 0.515, 0.5325, 0.515, 0.51875, 0.52375, 0.51875, 0.53375, 0.5175, 0.51875, 0.51875, 0.505, 0.4975, 0.5, 0.4925, 0.49, 0.4975, 0.5225, 0.49, 0.385, 0.3825, 0.38375, 0.3975], \"yaxis\": \"y\"}],\n",
              "                        {\"legend\": {\"tracegroupgap\": 0}, \"margin\": {\"t\": 60}, \"template\": {\"data\": {\"bar\": [{\"error_x\": {\"color\": \"#2a3f5f\"}, \"error_y\": {\"color\": \"#2a3f5f\"}, \"marker\": {\"line\": {\"color\": \"#E5ECF6\", \"width\": 0.5}}, \"type\": \"bar\"}], \"barpolar\": [{\"marker\": {\"line\": {\"color\": \"#E5ECF6\", \"width\": 0.5}}, \"type\": \"barpolar\"}], \"carpet\": [{\"aaxis\": {\"endlinecolor\": \"#2a3f5f\", \"gridcolor\": \"white\", \"linecolor\": \"white\", \"minorgridcolor\": \"white\", \"startlinecolor\": \"#2a3f5f\"}, \"baxis\": {\"endlinecolor\": \"#2a3f5f\", \"gridcolor\": \"white\", \"linecolor\": \"white\", \"minorgridcolor\": \"white\", \"startlinecolor\": \"#2a3f5f\"}, \"type\": \"carpet\"}], \"choropleth\": [{\"colorbar\": {\"outlinewidth\": 0, \"ticks\": \"\"}, \"type\": \"choropleth\"}], \"contour\": [{\"colorbar\": {\"outlinewidth\": 0, \"ticks\": \"\"}, \"colorscale\": [[0.0, \"#0d0887\"], [0.1111111111111111, \"#46039f\"], [0.2222222222222222, \"#7201a8\"], [0.3333333333333333, \"#9c179e\"], [0.4444444444444444, \"#bd3786\"], [0.5555555555555556, \"#d8576b\"], [0.6666666666666666, \"#ed7953\"], [0.7777777777777778, \"#fb9f3a\"], [0.8888888888888888, \"#fdca26\"], [1.0, \"#f0f921\"]], \"type\": \"contour\"}], \"contourcarpet\": [{\"colorbar\": {\"outlinewidth\": 0, \"ticks\": \"\"}, \"type\": \"contourcarpet\"}], \"heatmap\": [{\"colorbar\": {\"outlinewidth\": 0, \"ticks\": \"\"}, \"colorscale\": [[0.0, \"#0d0887\"], [0.1111111111111111, \"#46039f\"], [0.2222222222222222, \"#7201a8\"], [0.3333333333333333, \"#9c179e\"], [0.4444444444444444, \"#bd3786\"], [0.5555555555555556, \"#d8576b\"], [0.6666666666666666, \"#ed7953\"], [0.7777777777777778, \"#fb9f3a\"], [0.8888888888888888, \"#fdca26\"], [1.0, \"#f0f921\"]], \"type\": \"heatmap\"}], \"heatmapgl\": [{\"colorbar\": {\"outlinewidth\": 0, \"ticks\": \"\"}, \"colorscale\": [[0.0, \"#0d0887\"], [0.1111111111111111, \"#46039f\"], [0.2222222222222222, \"#7201a8\"], [0.3333333333333333, \"#9c179e\"], [0.4444444444444444, \"#bd3786\"], [0.5555555555555556, \"#d8576b\"], [0.6666666666666666, \"#ed7953\"], [0.7777777777777778, \"#fb9f3a\"], [0.8888888888888888, \"#fdca26\"], [1.0, \"#f0f921\"]], \"type\": \"heatmapgl\"}], \"histogram\": [{\"marker\": {\"colorbar\": {\"outlinewidth\": 0, \"ticks\": \"\"}}, \"type\": \"histogram\"}], \"histogram2d\": [{\"colorbar\": {\"outlinewidth\": 0, \"ticks\": \"\"}, \"colorscale\": [[0.0, \"#0d0887\"], [0.1111111111111111, \"#46039f\"], [0.2222222222222222, \"#7201a8\"], [0.3333333333333333, \"#9c179e\"], [0.4444444444444444, \"#bd3786\"], [0.5555555555555556, \"#d8576b\"], [0.6666666666666666, \"#ed7953\"], [0.7777777777777778, \"#fb9f3a\"], [0.8888888888888888, \"#fdca26\"], [1.0, \"#f0f921\"]], \"type\": \"histogram2d\"}], \"histogram2dcontour\": [{\"colorbar\": {\"outlinewidth\": 0, \"ticks\": \"\"}, \"colorscale\": [[0.0, \"#0d0887\"], [0.1111111111111111, \"#46039f\"], [0.2222222222222222, \"#7201a8\"], [0.3333333333333333, \"#9c179e\"], [0.4444444444444444, \"#bd3786\"], [0.5555555555555556, \"#d8576b\"], [0.6666666666666666, \"#ed7953\"], [0.7777777777777778, \"#fb9f3a\"], [0.8888888888888888, \"#fdca26\"], [1.0, \"#f0f921\"]], \"type\": \"histogram2dcontour\"}], \"mesh3d\": [{\"colorbar\": {\"outlinewidth\": 0, \"ticks\": \"\"}, \"type\": \"mesh3d\"}], \"parcoords\": [{\"line\": {\"colorbar\": {\"outlinewidth\": 0, \"ticks\": \"\"}}, \"type\": \"parcoords\"}], \"pie\": [{\"automargin\": true, \"type\": \"pie\"}], \"scatter\": [{\"marker\": {\"colorbar\": {\"outlinewidth\": 0, \"ticks\": \"\"}}, \"type\": \"scatter\"}], \"scatter3d\": [{\"line\": {\"colorbar\": {\"outlinewidth\": 0, \"ticks\": \"\"}}, \"marker\": {\"colorbar\": {\"outlinewidth\": 0, \"ticks\": \"\"}}, \"type\": \"scatter3d\"}], \"scattercarpet\": [{\"marker\": {\"colorbar\": {\"outlinewidth\": 0, \"ticks\": \"\"}}, \"type\": \"scattercarpet\"}], \"scattergeo\": [{\"marker\": {\"colorbar\": {\"outlinewidth\": 0, \"ticks\": \"\"}}, \"type\": \"scattergeo\"}], \"scattergl\": [{\"marker\": {\"colorbar\": {\"outlinewidth\": 0, \"ticks\": \"\"}}, \"type\": \"scattergl\"}], \"scattermapbox\": [{\"marker\": {\"colorbar\": {\"outlinewidth\": 0, \"ticks\": \"\"}}, \"type\": \"scattermapbox\"}], \"scatterpolar\": [{\"marker\": {\"colorbar\": {\"outlinewidth\": 0, \"ticks\": \"\"}}, \"type\": \"scatterpolar\"}], \"scatterpolargl\": [{\"marker\": {\"colorbar\": {\"outlinewidth\": 0, \"ticks\": \"\"}}, \"type\": \"scatterpolargl\"}], \"scatterternary\": [{\"marker\": {\"colorbar\": {\"outlinewidth\": 0, \"ticks\": \"\"}}, \"type\": \"scatterternary\"}], \"surface\": [{\"colorbar\": {\"outlinewidth\": 0, \"ticks\": \"\"}, \"colorscale\": [[0.0, \"#0d0887\"], [0.1111111111111111, \"#46039f\"], [0.2222222222222222, \"#7201a8\"], [0.3333333333333333, \"#9c179e\"], [0.4444444444444444, \"#bd3786\"], [0.5555555555555556, \"#d8576b\"], [0.6666666666666666, \"#ed7953\"], [0.7777777777777778, \"#fb9f3a\"], [0.8888888888888888, \"#fdca26\"], [1.0, \"#f0f921\"]], \"type\": \"surface\"}], \"table\": [{\"cells\": {\"fill\": {\"color\": \"#EBF0F8\"}, \"line\": {\"color\": \"white\"}}, \"header\": {\"fill\": {\"color\": \"#C8D4E3\"}, \"line\": {\"color\": \"white\"}}, \"type\": \"table\"}]}, \"layout\": {\"annotationdefaults\": {\"arrowcolor\": \"#2a3f5f\", \"arrowhead\": 0, \"arrowwidth\": 1}, \"coloraxis\": {\"colorbar\": {\"outlinewidth\": 0, \"ticks\": \"\"}}, \"colorscale\": {\"diverging\": [[0, \"#8e0152\"], [0.1, \"#c51b7d\"], [0.2, \"#de77ae\"], [0.3, \"#f1b6da\"], [0.4, \"#fde0ef\"], [0.5, \"#f7f7f7\"], [0.6, \"#e6f5d0\"], [0.7, \"#b8e186\"], [0.8, \"#7fbc41\"], [0.9, \"#4d9221\"], [1, \"#276419\"]], \"sequential\": [[0.0, \"#0d0887\"], [0.1111111111111111, \"#46039f\"], [0.2222222222222222, \"#7201a8\"], [0.3333333333333333, \"#9c179e\"], [0.4444444444444444, \"#bd3786\"], [0.5555555555555556, \"#d8576b\"], [0.6666666666666666, \"#ed7953\"], [0.7777777777777778, \"#fb9f3a\"], [0.8888888888888888, \"#fdca26\"], [1.0, \"#f0f921\"]], \"sequentialminus\": [[0.0, \"#0d0887\"], [0.1111111111111111, \"#46039f\"], [0.2222222222222222, \"#7201a8\"], [0.3333333333333333, \"#9c179e\"], [0.4444444444444444, \"#bd3786\"], [0.5555555555555556, \"#d8576b\"], [0.6666666666666666, \"#ed7953\"], [0.7777777777777778, \"#fb9f3a\"], [0.8888888888888888, \"#fdca26\"], [1.0, \"#f0f921\"]]}, \"colorway\": [\"#636efa\", \"#EF553B\", \"#00cc96\", \"#ab63fa\", \"#FFA15A\", \"#19d3f3\", \"#FF6692\", \"#B6E880\", \"#FF97FF\", \"#FECB52\"], \"font\": {\"color\": \"#2a3f5f\"}, \"geo\": {\"bgcolor\": \"white\", \"lakecolor\": \"white\", \"landcolor\": \"#E5ECF6\", \"showlakes\": true, \"showland\": true, \"subunitcolor\": \"white\"}, \"hoverlabel\": {\"align\": \"left\"}, \"hovermode\": \"closest\", \"mapbox\": {\"style\": \"light\"}, \"paper_bgcolor\": \"white\", \"plot_bgcolor\": \"#E5ECF6\", \"polar\": {\"angularaxis\": {\"gridcolor\": \"white\", \"linecolor\": \"white\", \"ticks\": \"\"}, \"bgcolor\": \"#E5ECF6\", \"radialaxis\": {\"gridcolor\": \"white\", \"linecolor\": \"white\", \"ticks\": \"\"}}, \"scene\": {\"xaxis\": {\"backgroundcolor\": \"#E5ECF6\", \"gridcolor\": \"white\", \"gridwidth\": 2, \"linecolor\": \"white\", \"showbackground\": true, \"ticks\": \"\", \"zerolinecolor\": \"white\"}, \"yaxis\": {\"backgroundcolor\": \"#E5ECF6\", \"gridcolor\": \"white\", \"gridwidth\": 2, \"linecolor\": \"white\", \"showbackground\": true, \"ticks\": \"\", \"zerolinecolor\": \"white\"}, \"zaxis\": {\"backgroundcolor\": \"#E5ECF6\", \"gridcolor\": \"white\", \"gridwidth\": 2, \"linecolor\": \"white\", \"showbackground\": true, \"ticks\": \"\", \"zerolinecolor\": \"white\"}}, \"shapedefaults\": {\"line\": {\"color\": \"#2a3f5f\"}}, \"ternary\": {\"aaxis\": {\"gridcolor\": \"white\", \"linecolor\": \"white\", \"ticks\": \"\"}, \"baxis\": {\"gridcolor\": \"white\", \"linecolor\": \"white\", \"ticks\": \"\"}, \"bgcolor\": \"#E5ECF6\", \"caxis\": {\"gridcolor\": \"white\", \"linecolor\": \"white\", \"ticks\": \"\"}}, \"title\": {\"x\": 0.05}, \"xaxis\": {\"automargin\": true, \"gridcolor\": \"white\", \"linecolor\": \"white\", \"ticks\": \"\", \"title\": {\"standoff\": 15}, \"zerolinecolor\": \"white\", \"zerolinewidth\": 2}, \"yaxis\": {\"automargin\": true, \"gridcolor\": \"white\", \"linecolor\": \"white\", \"ticks\": \"\", \"title\": {\"standoff\": 15}, \"zerolinecolor\": \"white\", \"zerolinewidth\": 2}}}, \"xaxis\": {\"anchor\": \"y\", \"domain\": [0.0, 1.0], \"rangeslider\": {\"visible\": true}}, \"yaxis\": {\"anchor\": \"x\", \"domain\": [0.0, 1.0], \"title\": {\"text\": \"current\"}}},\n",
              "                        {\"responsive\": true}\n",
              "                    ).then(function(){\n",
              "                            \n",
              "var gd = document.getElementById('197f7a49-60e1-49b4-975a-a26a13446bc5');\n",
              "var x = new MutationObserver(function (mutations, observer) {{\n",
              "        var display = window.getComputedStyle(gd).display;\n",
              "        if (!display || display === 'none') {{\n",
              "            console.log([gd, 'removed!']);\n",
              "            Plotly.purge(gd);\n",
              "            observer.disconnect();\n",
              "        }}\n",
              "}});\n",
              "\n",
              "// Listen for the removal of the full notebook cells\n",
              "var notebookContainer = gd.closest('#notebook-container');\n",
              "if (notebookContainer) {{\n",
              "    x.observe(notebookContainer, {childList: true});\n",
              "}}\n",
              "\n",
              "// Listen for the clearing of the current output cell\n",
              "var outputEl = gd.closest('.output');\n",
              "if (outputEl) {{\n",
              "    x.observe(outputEl, {childList: true});\n",
              "}}\n",
              "\n",
              "                        })\n",
              "                };\n",
              "                \n",
              "            </script>\n",
              "        </div>\n",
              "</body>\n",
              "</html>"
            ]
          },
          "metadata": {
            "tags": []
          }
        },
        {
          "output_type": "display_data",
          "data": {
            "text/html": [
              "<html>\n",
              "<head><meta charset=\"utf-8\" /></head>\n",
              "<body>\n",
              "    <div>\n",
              "            <script src=\"https://cdnjs.cloudflare.com/ajax/libs/mathjax/2.7.5/MathJax.js?config=TeX-AMS-MML_SVG\"></script><script type=\"text/javascript\">if (window.MathJax) {MathJax.Hub.Config({SVG: {font: \"STIX-Web\"}});}</script>\n",
              "                <script type=\"text/javascript\">window.PlotlyConfig = {MathJaxConfig: 'local'};</script>\n",
              "        <script src=\"https://cdn.plot.ly/plotly-latest.min.js\"></script>    \n",
              "            <div id=\"8fab3bff-2a3b-43c4-9078-6d33593f0020\" class=\"plotly-graph-div\" style=\"height:525px; width:100%;\"></div>\n",
              "            <script type=\"text/javascript\">\n",
              "                \n",
              "                    window.PLOTLYENV=window.PLOTLYENV || {};\n",
              "                    \n",
              "                if (document.getElementById(\"8fab3bff-2a3b-43c4-9078-6d33593f0020\")) {\n",
              "                    Plotly.newPlot(\n",
              "                        '8fab3bff-2a3b-43c4-9078-6d33593f0020',\n",
              "                        [{\"hoverlabel\": {\"namelength\": 0}, \"hovertemplate\": \"current=%{y}\", \"legendgroup\": \"\", \"line\": {\"color\": \"#636efa\", \"dash\": \"solid\"}, \"mode\": \"markers+lines\", \"name\": \"\", \"showlegend\": false, \"type\": \"scatter\", \"xaxis\": \"x\", \"y\": [0.4815180003643036, 0.4815180003643036, 0.49850600957870483, 0.49850600957870483, 0.49561265110969543, 0.49561265110969543, 0.48326584696769714, 0.48326584696769714, 0.4814903736114502, 0.4814903736114502, 0.45936551690101624, 0.45936551690101624, 0.4539742171764374, 0.4539742171764374, 0.44851911067962646, 0.44851911067962646, 0.44895055890083313, 0.44895055890083313, 0.46373090147972107, 0.46373090147972107, 0.48205244541168213, 0.48205244541168213, 0.5038808584213257, 0.5038808584213257, 0.50984126329422, 0.50984126329422, 0.5000887513160706, 0.5000887513160706, 0.4931124448776245, 0.4931124448776245, 0.4722452759742737, 0.4722452759742737, 0.46322333812713623, 0.46322333812713623, 0.4894426167011261, 0.4894426167011261, 0.5162433981895447, 0.5162433981895447, 0.5247989296913147, 0.5247989296913147, 0.5252138376235962, 0.5252138376235962, 0.5263837575912476, 0.5263837575912476, 0.523979127407074, 0.523979127407074, 0.4900363087654114, 0.4900363087654114, 0.4524880051612854, 0.4524880051612854, 0.41653358936309814, 0.41653358936309814, 0.3987356722354889, 0.3987356722354889, 0.3876780867576599, 0.3876780867576599, 0.38316673040390015, 0.38316673040390015, 0.35224780440330505, 0.35224780440330505, 0.33503472805023193, 0.33503472805023193, 0.312588095664978, 0.312588095664978, 0.3009505271911621, 0.3009505271911621, 0.2918699383735657, 0.2918699383735657, 0.28872743248939514, 0.28872743248939514, 0.2890125811100006, 0.2890125811100006, 0.29030412435531616, 0.29030412435531616, 0.3005150258541107, 0.3005150258541107, 0.2990911304950714, 0.2990911304950714, 0.28984856605529785, 0.28984856605529785, 0.28332242369651794, 0.28332242369651794, 0.2804412543773651, 0.2804412543773651, 0.27742454409599304, 0.27742454409599304, 0.2778742015361786, 0.2778742015361786, 0.2786850035190582, 0.2786850035190582, 0.31547272205352783, 0.31547272205352783, 0.37027695775032043, 0.37027695775032043, 0.4398393929004669, 0.4398393929004669, 0.47608324885368347, 0.47608324885368347, 0.47381648421287537, 0.47381648421287537, 0.4745212197303772, 0.4745212197303772, 0.4543854594230652, 0.4543854594230652, 0.44602662324905396, 0.44602662324905396, 0.4415557086467743, 0.4415557086467743, 0.43805328011512756, 0.43805328011512756, 0.4415474236011505, 0.4415474236011505, 0.4450773596763611, 0.4450773596763611, 0.4465675950050354, 0.4465675950050354, 0.4680854380130768, 0.4680854380130768, 0.4872506856918335, 0.4872506856918335, 0.49895280599594116, 0.49895280599594116, 0.500352144241333, 0.500352144241333, 0.5028285384178162, 0.5028285384178162, 0.49498265981674194, 0.49498265981674194, 0.49015483260154724, 0.49015483260154724, 0.4858616888523102, 0.4858616888523102, 0.4838748872280121, 0.4838748872280121, 0.4867161214351654, 0.4867161214351654, 0.4869486689567566, 0.4869486689567566, 0.4997234642505646, 0.4997234642505646, 0.5070168375968933, 0.5070168375968933, 0.524489164352417, 0.524489164352417, 0.5399876832962036, 0.5399876832962036, 0.5433766841888428, 0.5433766841888428, 0.5433627367019653, 0.5433627367019653, 0.5320916771888733, 0.5320916771888733, 0.5184604525566101, 0.5184604525566101, 0.498832106590271, 0.498832106590271, 0.47695672512054443, 0.47695672512054443, 0.46259433031082153, 0.46259433031082153, 0.45461881160736084, 0.45461881160736084, 0.4517650902271271, 0.4517650902271271, 0.4575687646865845, 0.4575687646865845, 0.47081390023231506, 0.47081390023231506, 0.4874216318130493, 0.4874216318130493, 0.4894047677516937, 0.4894047677516937, 0.49076345562934875, 0.49076345562934875, 0.4879550039768219, 0.4879550039768219, 0.48472633957862854, 0.48472633957862854, 0.48618653416633606, 0.48618653416633606, 0.4899826645851135, 0.4899826645851135, 0.4948605000972748, 0.4948605000972748, 0.49611523747444153, 0.49611523747444153, 0.4953575134277344, 0.4953575134277344, 0.49029698967933655, 0.49029698967933655, 0.4856816530227661, 0.4856816530227661, 0.48432108759880066, 0.48432108759880066, 0.4854055643081665, 0.4854055643081665, 0.48964786529541016, 0.48964786529541016, 0.4966430962085724, 0.4966430962085724, 0.4986245930194855, 0.4986245930194855, 0.5010431408882141, 0.5010431408882141, 0.5024177432060242, 0.5024177432060242, 0.4963555335998535, 0.4963555335998535, 0.4974319636821747, 0.4974319636821747, 0.4965420365333557, 0.4965420365333557, 0.4915018081665039, 0.4915018081665039, 0.5009924173355103, 0.5009924173355103, 0.5151875615119934, 0.5151875615119934, 0.5238912105560303, 0.5238912105560303, 0.5360809564590454, 0.5360809564590454, 0.5327915549278259, 0.5327915549278259, 0.5298934578895569, 0.5298934578895569, 0.5352967381477356, 0.5352967381477356, 0.5336717367172241, 0.5336717367172241, 0.5242615342140198, 0.5242615342140198, 0.5223405957221985, 0.5223405957221985, 0.514779269695282, 0.514779269695282, 0.5202590227127075, 0.5202590227127075, 0.5305023193359375, 0.5305023193359375, 0.5223947167396545, 0.5223947167396545, 0.49430227279663086, 0.49430227279663086, 0.4368794560432434, 0.4368794560432434, 0.3823372721672058, 0.3823372721672058, 0.35577383637428284, 0.35577383637428284, 0.34721818566322327, 0.34721818566322327, 0.35008323192596436, 0.35008323192596436, 0.3555569648742676, 0.3555569648742676, 0.35950884222984314, 0.35950884222984314, 0.3720722198486328, 0.3720722198486328, 0.37764373421669006, 0.37764373421669006, 0.3824963867664337, 0.3824963867664337, 0.38556885719299316, 0.38556885719299316, 0.3890938460826874, 0.3890938460826874, 0.3876367509365082, 0.3876367509365082, 0.3993232846260071, 0.3993232846260071, 0.4129548668861389, 0.4129548668861389, 0.4760470688343048, 0.4760470688343048, 0.5329453945159912, 0.5329453945159912, 0.5458895564079285, 0.5458895564079285, 0.5528120398521423, 0.5528120398521423, 0.5640019774436951, 0.5640019774436951, 0.5649817585945129, 0.5649817585945129, 0.5601483583450317, 0.5601483583450317, 0.5495830774307251, 0.5495830774307251, 0.536139965057373, 0.536139965057373, 0.5282324552536011, 0.5282324552536011, 0.5201801657676697, 0.5201801657676697, 0.5064290165901184, 0.5064290165901184, 0.49981778860092163, 0.49981778860092163, 0.5051506757736206, 0.5051506757736206, 0.5217671990394592, 0.5217671990394592, 0.5378293991088867, 0.5378293991088867, 0.538322925567627, 0.538322925567627, 0.5219190716743469, 0.5219190716743469, 0.5055525898933411, 0.5055525898933411, 0.47013160586357117, 0.47013160586357117, 0.45749539136886597, 0.45749539136886597, 0.4482581615447998, 0.4482581615447998, 0.44848379492759705, 0.44848379492759705], \"yaxis\": \"y\"}],\n",
              "                        {\"legend\": {\"tracegroupgap\": 0}, \"margin\": {\"t\": 60}, \"template\": {\"data\": {\"bar\": [{\"error_x\": {\"color\": \"#2a3f5f\"}, \"error_y\": {\"color\": \"#2a3f5f\"}, \"marker\": {\"line\": {\"color\": \"#E5ECF6\", \"width\": 0.5}}, \"type\": \"bar\"}], \"barpolar\": [{\"marker\": {\"line\": {\"color\": \"#E5ECF6\", \"width\": 0.5}}, \"type\": \"barpolar\"}], \"carpet\": [{\"aaxis\": {\"endlinecolor\": \"#2a3f5f\", \"gridcolor\": \"white\", \"linecolor\": \"white\", \"minorgridcolor\": \"white\", \"startlinecolor\": \"#2a3f5f\"}, \"baxis\": {\"endlinecolor\": \"#2a3f5f\", \"gridcolor\": \"white\", \"linecolor\": \"white\", \"minorgridcolor\": \"white\", \"startlinecolor\": \"#2a3f5f\"}, \"type\": \"carpet\"}], \"choropleth\": [{\"colorbar\": {\"outlinewidth\": 0, \"ticks\": \"\"}, \"type\": \"choropleth\"}], \"contour\": [{\"colorbar\": {\"outlinewidth\": 0, \"ticks\": \"\"}, \"colorscale\": [[0.0, \"#0d0887\"], [0.1111111111111111, \"#46039f\"], [0.2222222222222222, \"#7201a8\"], [0.3333333333333333, \"#9c179e\"], [0.4444444444444444, \"#bd3786\"], [0.5555555555555556, \"#d8576b\"], [0.6666666666666666, \"#ed7953\"], [0.7777777777777778, \"#fb9f3a\"], [0.8888888888888888, \"#fdca26\"], [1.0, \"#f0f921\"]], \"type\": \"contour\"}], \"contourcarpet\": [{\"colorbar\": {\"outlinewidth\": 0, \"ticks\": \"\"}, \"type\": \"contourcarpet\"}], \"heatmap\": [{\"colorbar\": {\"outlinewidth\": 0, \"ticks\": \"\"}, \"colorscale\": [[0.0, \"#0d0887\"], [0.1111111111111111, \"#46039f\"], [0.2222222222222222, \"#7201a8\"], [0.3333333333333333, \"#9c179e\"], [0.4444444444444444, \"#bd3786\"], [0.5555555555555556, \"#d8576b\"], [0.6666666666666666, \"#ed7953\"], [0.7777777777777778, \"#fb9f3a\"], [0.8888888888888888, \"#fdca26\"], [1.0, \"#f0f921\"]], \"type\": \"heatmap\"}], \"heatmapgl\": [{\"colorbar\": {\"outlinewidth\": 0, \"ticks\": \"\"}, \"colorscale\": [[0.0, \"#0d0887\"], [0.1111111111111111, \"#46039f\"], [0.2222222222222222, \"#7201a8\"], [0.3333333333333333, \"#9c179e\"], [0.4444444444444444, \"#bd3786\"], [0.5555555555555556, \"#d8576b\"], [0.6666666666666666, \"#ed7953\"], [0.7777777777777778, \"#fb9f3a\"], [0.8888888888888888, \"#fdca26\"], [1.0, \"#f0f921\"]], \"type\": \"heatmapgl\"}], \"histogram\": [{\"marker\": {\"colorbar\": {\"outlinewidth\": 0, \"ticks\": \"\"}}, \"type\": \"histogram\"}], \"histogram2d\": [{\"colorbar\": {\"outlinewidth\": 0, \"ticks\": \"\"}, \"colorscale\": [[0.0, \"#0d0887\"], [0.1111111111111111, \"#46039f\"], [0.2222222222222222, \"#7201a8\"], [0.3333333333333333, \"#9c179e\"], [0.4444444444444444, \"#bd3786\"], [0.5555555555555556, \"#d8576b\"], [0.6666666666666666, \"#ed7953\"], [0.7777777777777778, \"#fb9f3a\"], [0.8888888888888888, \"#fdca26\"], [1.0, \"#f0f921\"]], \"type\": \"histogram2d\"}], \"histogram2dcontour\": [{\"colorbar\": {\"outlinewidth\": 0, \"ticks\": \"\"}, \"colorscale\": [[0.0, \"#0d0887\"], [0.1111111111111111, \"#46039f\"], [0.2222222222222222, \"#7201a8\"], [0.3333333333333333, \"#9c179e\"], [0.4444444444444444, \"#bd3786\"], [0.5555555555555556, \"#d8576b\"], [0.6666666666666666, \"#ed7953\"], [0.7777777777777778, \"#fb9f3a\"], [0.8888888888888888, \"#fdca26\"], [1.0, \"#f0f921\"]], \"type\": \"histogram2dcontour\"}], \"mesh3d\": [{\"colorbar\": {\"outlinewidth\": 0, \"ticks\": \"\"}, \"type\": \"mesh3d\"}], \"parcoords\": [{\"line\": {\"colorbar\": {\"outlinewidth\": 0, \"ticks\": \"\"}}, \"type\": \"parcoords\"}], \"pie\": [{\"automargin\": true, \"type\": \"pie\"}], \"scatter\": [{\"marker\": {\"colorbar\": {\"outlinewidth\": 0, \"ticks\": \"\"}}, \"type\": \"scatter\"}], \"scatter3d\": [{\"line\": {\"colorbar\": {\"outlinewidth\": 0, \"ticks\": \"\"}}, \"marker\": {\"colorbar\": {\"outlinewidth\": 0, \"ticks\": \"\"}}, \"type\": \"scatter3d\"}], \"scattercarpet\": [{\"marker\": {\"colorbar\": {\"outlinewidth\": 0, \"ticks\": \"\"}}, \"type\": \"scattercarpet\"}], \"scattergeo\": [{\"marker\": {\"colorbar\": {\"outlinewidth\": 0, \"ticks\": \"\"}}, \"type\": \"scattergeo\"}], \"scattergl\": [{\"marker\": {\"colorbar\": {\"outlinewidth\": 0, \"ticks\": \"\"}}, \"type\": \"scattergl\"}], \"scattermapbox\": [{\"marker\": {\"colorbar\": {\"outlinewidth\": 0, \"ticks\": \"\"}}, \"type\": \"scattermapbox\"}], \"scatterpolar\": [{\"marker\": {\"colorbar\": {\"outlinewidth\": 0, \"ticks\": \"\"}}, \"type\": \"scatterpolar\"}], \"scatterpolargl\": [{\"marker\": {\"colorbar\": {\"outlinewidth\": 0, \"ticks\": \"\"}}, \"type\": \"scatterpolargl\"}], \"scatterternary\": [{\"marker\": {\"colorbar\": {\"outlinewidth\": 0, \"ticks\": \"\"}}, \"type\": \"scatterternary\"}], \"surface\": [{\"colorbar\": {\"outlinewidth\": 0, \"ticks\": \"\"}, \"colorscale\": [[0.0, \"#0d0887\"], [0.1111111111111111, \"#46039f\"], [0.2222222222222222, \"#7201a8\"], [0.3333333333333333, \"#9c179e\"], [0.4444444444444444, \"#bd3786\"], [0.5555555555555556, \"#d8576b\"], [0.6666666666666666, \"#ed7953\"], [0.7777777777777778, \"#fb9f3a\"], [0.8888888888888888, \"#fdca26\"], [1.0, \"#f0f921\"]], \"type\": \"surface\"}], \"table\": [{\"cells\": {\"fill\": {\"color\": \"#EBF0F8\"}, \"line\": {\"color\": \"white\"}}, \"header\": {\"fill\": {\"color\": \"#C8D4E3\"}, \"line\": {\"color\": \"white\"}}, \"type\": \"table\"}]}, \"layout\": {\"annotationdefaults\": {\"arrowcolor\": \"#2a3f5f\", \"arrowhead\": 0, \"arrowwidth\": 1}, \"coloraxis\": {\"colorbar\": {\"outlinewidth\": 0, \"ticks\": \"\"}}, \"colorscale\": {\"diverging\": [[0, \"#8e0152\"], [0.1, \"#c51b7d\"], [0.2, \"#de77ae\"], [0.3, \"#f1b6da\"], [0.4, \"#fde0ef\"], [0.5, \"#f7f7f7\"], [0.6, \"#e6f5d0\"], [0.7, \"#b8e186\"], [0.8, \"#7fbc41\"], [0.9, \"#4d9221\"], [1, \"#276419\"]], \"sequential\": [[0.0, \"#0d0887\"], [0.1111111111111111, \"#46039f\"], [0.2222222222222222, \"#7201a8\"], [0.3333333333333333, \"#9c179e\"], [0.4444444444444444, \"#bd3786\"], [0.5555555555555556, \"#d8576b\"], [0.6666666666666666, \"#ed7953\"], [0.7777777777777778, \"#fb9f3a\"], [0.8888888888888888, \"#fdca26\"], [1.0, \"#f0f921\"]], \"sequentialminus\": [[0.0, \"#0d0887\"], [0.1111111111111111, \"#46039f\"], [0.2222222222222222, \"#7201a8\"], [0.3333333333333333, \"#9c179e\"], [0.4444444444444444, \"#bd3786\"], [0.5555555555555556, \"#d8576b\"], [0.6666666666666666, \"#ed7953\"], [0.7777777777777778, \"#fb9f3a\"], [0.8888888888888888, \"#fdca26\"], [1.0, \"#f0f921\"]]}, \"colorway\": [\"#636efa\", \"#EF553B\", \"#00cc96\", \"#ab63fa\", \"#FFA15A\", \"#19d3f3\", \"#FF6692\", \"#B6E880\", \"#FF97FF\", \"#FECB52\"], \"font\": {\"color\": \"#2a3f5f\"}, \"geo\": {\"bgcolor\": \"white\", \"lakecolor\": \"white\", \"landcolor\": \"#E5ECF6\", \"showlakes\": true, \"showland\": true, \"subunitcolor\": \"white\"}, \"hoverlabel\": {\"align\": \"left\"}, \"hovermode\": \"closest\", \"mapbox\": {\"style\": \"light\"}, \"paper_bgcolor\": \"white\", \"plot_bgcolor\": \"#E5ECF6\", \"polar\": {\"angularaxis\": {\"gridcolor\": \"white\", \"linecolor\": \"white\", \"ticks\": \"\"}, \"bgcolor\": \"#E5ECF6\", \"radialaxis\": {\"gridcolor\": \"white\", \"linecolor\": \"white\", \"ticks\": \"\"}}, \"scene\": {\"xaxis\": {\"backgroundcolor\": \"#E5ECF6\", \"gridcolor\": \"white\", \"gridwidth\": 2, \"linecolor\": \"white\", \"showbackground\": true, \"ticks\": \"\", \"zerolinecolor\": \"white\"}, \"yaxis\": {\"backgroundcolor\": \"#E5ECF6\", \"gridcolor\": \"white\", \"gridwidth\": 2, \"linecolor\": \"white\", \"showbackground\": true, \"ticks\": \"\", \"zerolinecolor\": \"white\"}, \"zaxis\": {\"backgroundcolor\": \"#E5ECF6\", \"gridcolor\": \"white\", \"gridwidth\": 2, \"linecolor\": \"white\", \"showbackground\": true, \"ticks\": \"\", \"zerolinecolor\": \"white\"}}, \"shapedefaults\": {\"line\": {\"color\": \"#2a3f5f\"}}, \"ternary\": {\"aaxis\": {\"gridcolor\": \"white\", \"linecolor\": \"white\", \"ticks\": \"\"}, \"baxis\": {\"gridcolor\": \"white\", \"linecolor\": \"white\", \"ticks\": \"\"}, \"bgcolor\": \"#E5ECF6\", \"caxis\": {\"gridcolor\": \"white\", \"linecolor\": \"white\", \"ticks\": \"\"}}, \"title\": {\"x\": 0.05}, \"xaxis\": {\"automargin\": true, \"gridcolor\": \"white\", \"linecolor\": \"white\", \"ticks\": \"\", \"title\": {\"standoff\": 15}, \"zerolinecolor\": \"white\", \"zerolinewidth\": 2}, \"yaxis\": {\"automargin\": true, \"gridcolor\": \"white\", \"linecolor\": \"white\", \"ticks\": \"\", \"title\": {\"standoff\": 15}, \"zerolinecolor\": \"white\", \"zerolinewidth\": 2}}}, \"xaxis\": {\"anchor\": \"y\", \"domain\": [0.0, 1.0], \"rangeslider\": {\"visible\": true}}, \"yaxis\": {\"anchor\": \"x\", \"domain\": [0.0, 1.0], \"title\": {\"text\": \"current\"}}},\n",
              "                        {\"responsive\": true}\n",
              "                    ).then(function(){\n",
              "                            \n",
              "var gd = document.getElementById('8fab3bff-2a3b-43c4-9078-6d33593f0020');\n",
              "var x = new MutationObserver(function (mutations, observer) {{\n",
              "        var display = window.getComputedStyle(gd).display;\n",
              "        if (!display || display === 'none') {{\n",
              "            console.log([gd, 'removed!']);\n",
              "            Plotly.purge(gd);\n",
              "            observer.disconnect();\n",
              "        }}\n",
              "}});\n",
              "\n",
              "// Listen for the removal of the full notebook cells\n",
              "var notebookContainer = gd.closest('#notebook-container');\n",
              "if (notebookContainer) {{\n",
              "    x.observe(notebookContainer, {childList: true});\n",
              "}}\n",
              "\n",
              "// Listen for the clearing of the current output cell\n",
              "var outputEl = gd.closest('.output');\n",
              "if (outputEl) {{\n",
              "    x.observe(outputEl, {childList: true});\n",
              "}}\n",
              "\n",
              "                        })\n",
              "                };\n",
              "                \n",
              "            </script>\n",
              "        </div>\n",
              "</body>\n",
              "</html>"
            ]
          },
          "metadata": {
            "tags": []
          }
        }
      ]
    },
    {
      "cell_type": "markdown",
      "metadata": {
        "id": "ydWyyIiK3G0D"
      },
      "source": [
        ""
      ]
    },
    {
      "cell_type": "code",
      "metadata": {
        "id": "MP3-6wge1T2V"
      },
      "source": [
        ""
      ],
      "execution_count": null,
      "outputs": []
    }
  ]
}